{
  "nbformat": 4,
  "nbformat_minor": 0,
  "metadata": {
    "colab": {
      "provenance": [],
      "include_colab_link": true
    },
    "kernelspec": {
      "name": "python3",
      "display_name": "Python 3"
    },
    "language_info": {
      "name": "python"
    }
  },
  "cells": [
    {
      "cell_type": "markdown",
      "metadata": {
        "id": "view-in-github",
        "colab_type": "text"
      },
      "source": [
        "<a href=\"https://colab.research.google.com/github/megghan/python_UFSCar/blob/main/PA2_Lista_de_exercicios_5.ipynb\" target=\"_parent\"><img src=\"https://colab.research.google.com/assets/colab-badge.svg\" alt=\"Open In Colab\"/></a>"
      ]
    },
    {
      "cell_type": "markdown",
      "source": [
        "# <font color='blue'> Lista de exercícios 5 - PA2 </font>\n",
        "\n",
        "\n",
        "\n",
        "### Métodos recursivos de ordenação de listas numéricas"
      ],
      "metadata": {
        "id": "ucxSpvLZ9Gg1"
      }
    },
    {
      "cell_type": "markdown",
      "source": [
        "**Exercício 1 (3 pontos):** Escreva um programa em Python que conduza a ordenação de uma lista em ordem <font color='green'>**decrescente**</font> de acordo com a estratégia da técnica:"
      ],
      "metadata": {
        "id": "vwz3zhD39U2c"
      }
    },
    {
      "cell_type": "markdown",
      "source": [
        "(a) *Quick Sort*."
      ],
      "metadata": {
        "id": "v3n_3vLm9rOi"
      }
    },
    {
      "cell_type": "code",
      "execution_count": null,
      "metadata": {
        "id": "SWQRYuN19DEB"
      },
      "outputs": [],
      "source": [
        "# Solução:~>"
      ]
    },
    {
      "cell_type": "markdown",
      "source": [
        "(b) *Merge Sort*."
      ],
      "metadata": {
        "id": "35EACLTM9wX3"
      }
    },
    {
      "cell_type": "code",
      "execution_count": null,
      "metadata": {
        "id": "prH0JQ1L9wX3",
        "outputId": "0d86dd48-b9e0-4b6a-f0ff-7327f7c37dd8",
        "colab": {
          "base_uri": "https://localhost:8080/"
        }
      },
      "outputs": [
        {
          "output_type": "stream",
          "name": "stdout",
          "text": [
            "L =  [5 1 5 3 0 9 0 8 9 9 6 5 0 8 7 6 6 8 6 3]\n",
            "argsort(L) =  [12  4  6  1 19  3 11  0  2 18 10 15 16 14 13 17  7  8  5  9]\n",
            "L =  [0, 0, 0, 1, 3, 3, 5, 5, 5, 6, 6, 6, 6, 7, 8, 8, 8, 9, 9, 9]\n",
            "argsort(L) =  [4, 6, 12, 1, 3, 19, 0, 2, 11, 10, 15, 16, 18, 14, 7, 13, 17, 5, 8, 9]\n"
          ]
        }
      ],
      "source": [
        "# Solução:~>\n",
        "def merge(lista_esquerda, ind_e, lista_direita, ind_d):\n",
        "\n",
        "  n_esquerda = len(lista_esquerda)\n",
        "  n_direita  = len(lista_direita)\n",
        "\n",
        "  i_esq = 0\n",
        "  i_dir = 0\n",
        "  lista_mesclada  = []\n",
        "  indice_mesclado = []\n",
        "  while i_esq < n_esquerda and i_dir < n_direita:\n",
        "\n",
        "      id = -1\n",
        "      if lista_esquerda[i_esq] <= lista_direita[i_dir]:\n",
        "          menor_valor = lista_esquerda[i_esq]\n",
        "          id = ind_e[i_esq]\n",
        "          i_esq = i_esq + 1\n",
        "      else:\n",
        "          menor_valor = lista_direita[i_dir]\n",
        "          id = ind_d[i_dir]\n",
        "          i_dir = i_dir + 1\n",
        "\n",
        "      lista_mesclada.append(menor_valor)\n",
        "      indice_mesclado.append(id)\n",
        "\n",
        "  for i in range(i_esq, n_esquerda):\n",
        "      lista_mesclada.append(lista_esquerda[i])\n",
        "      indice_mesclado.append(ind_e[i])\n",
        "\n",
        "  for i in range(i_dir, n_direita):\n",
        "      lista_mesclada.append(lista_direita[i])\n",
        "      indice_mesclado.append(ind_d[i])\n",
        "\n",
        "  return lista_mesclada, indice_mesclado\n",
        "def merge_sort(L, indices = []):\n",
        "\n",
        "  n = len(L)\n",
        "\n",
        "  if n <= 1:\n",
        "    return L, indices\n",
        "\n",
        "  if len(indices) == 0:\n",
        "    indices = list(range(n))\n",
        "\n",
        "  ponto_medio = n // 2\n",
        "\n",
        "  lista_esquerda = L[0:ponto_medio]\n",
        "  lista_direita  = L[ponto_medio:n]\n",
        "\n",
        "  ind_e = indices[0:ponto_medio]\n",
        "  ind_d = indices[ponto_medio:n]\n",
        "\n",
        "  lista_esquerda_ordenada, ind_e_ord = merge_sort(lista_esquerda, ind_e)\n",
        "  lista_direita_ordenada, ind_d_ord  = merge_sort(lista_direita, ind_d)\n",
        "\n",
        "  L, indices = merge(lista_esquerda_ordenada, ind_e_ord, lista_direita_ordenada, ind_d_ord)\n",
        "\n",
        "  return L, indices\n",
        "from numpy import random as rd\n",
        "from numpy import argsort\n",
        "\n",
        "L = rd.randint(0,10,20)\n",
        "\n",
        "print(\"L = \", L)\n",
        "print(\"argsort(L) = \", argsort(L))\n",
        "\n",
        "L, ind = merge_sort(L)\n",
        "\n",
        "print(\"L = \", L)\n",
        "print(\"argsort(L) = \", ind)"
      ]
    },
    {
      "cell_type": "markdown",
      "source": [
        "**Exercício 2 (3 pontos):** Escreva um programa em Python que conduza a ordenação de uma lista em ordem <font color='green'>**crescente**</font> e que retorne os índices referentes aos elementos desta lista. Em outras palavras, seu código deve funcionar de maneira semelhante à da função ```argsort``` do módulo numpy. Por exemplo, para o caso da lista ```L``` definida na seção de código abaixo, o seu programa deve apresentar na tela o conjunto de índices ```I_sort```."
      ],
      "metadata": {
        "id": "DdYu4t93-WWY"
      }
    },
    {
      "cell_type": "code",
      "source": [
        "from numpy import argsort\n",
        "\n",
        "L = [5,5,2,234,5,7,8,8,4345,3,22,32,454,5,46]\n",
        "\n",
        "I_sort = argsort(L)\n",
        "\n",
        "print(I_sort)"
      ],
      "metadata": {
        "colab": {
          "base_uri": "https://localhost:8080/"
        },
        "id": "eSbsOLT9-sD0",
        "outputId": "d5c9fb1f-0906-482f-ba10-e7209b605874"
      },
      "execution_count": null,
      "outputs": [
        {
          "output_type": "stream",
          "name": "stdout",
          "text": [
            "[ 2  9  0  1  4 13  5  6  7 10 11 14  3 12  8]\n"
          ]
        }
      ]
    },
    {
      "cell_type": "markdown",
      "source": [
        "Além disso, seu código deve ser estruturado de acordo com as seguintes técnicas:"
      ],
      "metadata": {
        "id": "Fny-hg1F_bO-"
      }
    },
    {
      "cell_type": "markdown",
      "source": [
        "(a) *Quick Sort*."
      ],
      "metadata": {
        "id": "vjecT2zt_ld8"
      }
    },
    {
      "cell_type": "code",
      "execution_count": null,
      "metadata": {
        "id": "8z7RAhsP_ld9"
      },
      "outputs": [],
      "source": [
        "# Solução:~>"
      ]
    },
    {
      "cell_type": "markdown",
      "source": [
        "(b) *Merge Sort*."
      ],
      "metadata": {
        "id": "6ynrfYlr_ld9"
      }
    },
    {
      "cell_type": "code",
      "execution_count": null,
      "metadata": {
        "id": "6aO7qQ6C_ld9"
      },
      "outputs": [],
      "source": [
        "# Solução:~>"
      ]
    },
    {
      "cell_type": "markdown",
      "source": [
        "**Exercício 3 (2 pontos):** A função ```time``` do módulo ```time``` recupera o horário do computador em que a mesma foi executada. Assim, para determinar a quantidade de tempo em que uma função ```f``` leva para ser completamente processada, basta utilizar a seguinte seção de código:"
      ],
      "metadata": {
        "id": "MSK03X7E_tXo"
      }
    },
    {
      "cell_type": "code",
      "source": [
        "def f(n):\n",
        "  x = 0\n",
        "  for i in range(n):\n",
        "    x = x + 1\n",
        "  return x\n",
        "\n",
        "# Medição de tempo computacional em segundos\n",
        "from time import time\n",
        "\n",
        "n = 100000000\n",
        "tempo_inicial = time()\n",
        "retorno       = f(n)\n",
        "tempo_final   = time()\n",
        "\n",
        "print(\"Tempo gasto para executar f:\", tempo_final - tempo_inicial, \"segundos.\")\n",
        "\n",
        "print(\"Seu computador (ou o google se for o colab) leva aproximadamente \",\n",
        "      (tempo_final - tempo_inicial)/n,\n",
        "      \"segundos para efetuar uma operação de soma pela linguagem Python 3.\")"
      ],
      "metadata": {
        "colab": {
          "base_uri": "https://localhost:8080/"
        },
        "id": "gekZiW16AT9f",
        "outputId": "a46958a4-7a1b-426e-bfd3-a3953bbcc554"
      },
      "execution_count": null,
      "outputs": [
        {
          "output_type": "stream",
          "name": "stdout",
          "text": [
            "Tempo gasto para executar f: 6.758707046508789 segundos.\n",
            "Seu computador (ou o google se for o colab) leva aproximadamente  6.75870704650879e-08 segundos para efetuar uma operação de soma pela linguagem Python 3.\n"
          ]
        }
      ]
    },
    {
      "cell_type": "markdown",
      "source": [
        "Utilize a função time para medir o desempenho dos programas escritos por você no **Exercício 1** desta lista <font color='blue'>e no **Exercício 1** da lista de exercícios anterior (**Lista 4**)</font> para ordenar as seguintes listas:"
      ],
      "metadata": {
        "id": "ID4lgr3TBqWo"
      }
    },
    {
      "cell_type": "code",
      "source": [
        "from numpy import random as rd\n",
        "\n",
        "lista_0 = list(rd.uniform(-1,1,10))\n",
        "lista_1 = list(rd.uniform(-1,1,100))\n",
        "lista_2 = list(rd.uniform(-1,1,1000))\n",
        "lista_3 = list(rd.uniform(-1,1,10000))\n",
        "lista_4 = list(rd.uniform(-1,1,100000))\n",
        "lista_5 = list(rd.uniform(-1,1,1000000))\n",
        "lista_6 = list(rd.uniform(-1,1,10000000))"
      ],
      "metadata": {
        "id": "qYYDzEfQB-lw"
      },
      "execution_count": null,
      "outputs": []
    },
    {
      "cell_type": "markdown",
      "source": [
        "Apresente os resultados obtidos em forma de tabela: método x tempo gasto em segundos para cada lista. De preferência, crie um DataFrame com o módulo ```pandas``` para armazenar e apresentar o resultado na tela. Observando os resultados, é possível definir que algum dos métodos se saiu melhor com respeito a cada uma das listas isoladamente?"
      ],
      "metadata": {
        "id": "B43zxN2JCqKR"
      }
    },
    {
      "cell_type": "code",
      "source": [
        "# Solução:~>"
      ],
      "metadata": {
        "id": "gJFAxZuSAxlH"
      },
      "execution_count": null,
      "outputs": []
    },
    {
      "cell_type": "markdown",
      "source": [
        "**Exercício 4 (2 pontos):** Considere a lista de dicionários gerada abaixo:"
      ],
      "metadata": {
        "id": "DXZEpkz6Dj-G"
      }
    },
    {
      "cell_type": "code",
      "source": [
        "from numpy import random as rd\n",
        "\n",
        "lista_de_cadastro  = []\n",
        "\n",
        "numero_de_usuarios = 10\n",
        "\n",
        "primeiro_nome   = [\"Paola\", \"Rubí\", \"Maria\"]\n",
        "n_primeiro_nome = len(primeiro_nome)\n",
        "\n",
        "segundo_nome   = [\"Bracho\", \"Pérez Ochoa\", \"Mercedes\"]\n",
        "n_segundo_nome = len(segundo_nome)\n",
        "\n",
        "for i in range(numero_de_usuarios):\n",
        "\n",
        "   nome_1 = primeiro_nome[rd.randint(0,n_primeiro_nome)]\n",
        "   nome_2 = segundo_nome[rd.randint(0,n_segundo_nome)]\n",
        "\n",
        "   idade  = rd.randint(10,100)\n",
        "\n",
        "   usuario = {\"primeiro_nome\":nome_1, \"segundo_nome\":nome_2, \"idade\":idade}\n",
        "\n",
        "   lista_de_cadastro.append(usuario)\n",
        "\n",
        "for usuario in lista_de_cadastro:\n",
        "  print(usuario)"
      ],
      "metadata": {
        "colab": {
          "base_uri": "https://localhost:8080/"
        },
        "id": "J9QiDDB0DrIq",
        "outputId": "e64a9400-4fe6-4e84-ac23-d86a443540c3"
      },
      "execution_count": null,
      "outputs": [
        {
          "output_type": "stream",
          "name": "stdout",
          "text": [
            "{'primeiro_nome': 'Paola', 'segundo_nome': 'Pérez Ochoa', 'idade': 71}\n",
            "{'primeiro_nome': 'Rubi', 'segundo_nome': 'Bracho', 'idade': 32}\n",
            "{'primeiro_nome': 'Paola', 'segundo_nome': 'Pérez Ochoa', 'idade': 15}\n",
            "{'primeiro_nome': 'Paola', 'segundo_nome': 'Pérez Ochoa', 'idade': 66}\n",
            "{'primeiro_nome': 'Maria', 'segundo_nome': 'Mercedes', 'idade': 59}\n",
            "{'primeiro_nome': 'Paola', 'segundo_nome': 'Bracho', 'idade': 95}\n",
            "{'primeiro_nome': 'Maria', 'segundo_nome': 'Bracho', 'idade': 14}\n",
            "{'primeiro_nome': 'Paola', 'segundo_nome': 'Mercedes', 'idade': 65}\n",
            "{'primeiro_nome': 'Rubi', 'segundo_nome': 'Mercedes', 'idade': 85}\n",
            "{'primeiro_nome': 'Maria', 'segundo_nome': 'Bracho', 'idade': 48}\n"
          ]
        }
      ]
    },
    {
      "cell_type": "markdown",
      "source": [
        "(a) Utilizando o algoritmo <font color='green'>*Quick Sort*</font> ordene de forma **crescente** a lista ```lista_de_cadastro``` de acordo com o item \"idade\" em cada dicionário.\n",
        "\n",
        "(b) Utilizando o algoritmo <font color='purple'>*Merge Sort*</font> ordene de forma **decrescente** a lista ```lista_de_cadastro``` de acordo com o número de letras no sobrenome do usuário."
      ],
      "metadata": {
        "id": "NlkfOcE-GaFR"
      }
    },
    {
      "cell_type": "code",
      "source": [
        "# Solução:~>"
      ],
      "metadata": {
        "id": "0zehK0eoG12q"
      },
      "execution_count": null,
      "outputs": []
    },
    {
      "cell_type": "markdown",
      "source": [
        "#<font color='red'>**Atividade Avaliativa Semanal 5**</font>: Entregar a lista de exercícios resolvida em formato PDF."
      ],
      "metadata": {
        "id": "gtb87aXoG5vC"
      }
    }
  ]
}