{
  "nbformat": 4,
  "nbformat_minor": 0,
  "metadata": {
    "colab": {
      "provenance": [],
      "include_colab_link": true
    },
    "kernelspec": {
      "name": "python3",
      "display_name": "Python 3"
    },
    "language_info": {
      "name": "python"
    }
  },
  "cells": [
    {
      "cell_type": "markdown",
      "metadata": {
        "id": "view-in-github",
        "colab_type": "text"
      },
      "source": [
        "<a href=\"https://colab.research.google.com/github/megghan/python_UFSCar/blob/main/Semanas_2_e_3_Complexidade_de_Algoritmos.ipynb\" target=\"_parent\"><img src=\"https://colab.research.google.com/assets/colab-badge.svg\" alt=\"Open In Colab\"/></a>"
      ]
    },
    {
      "cell_type": "markdown",
      "source": [
        "# <font color='blue'>Uma breve introdução à Complexidade de Algoritmos</font>\n",
        "\n",
        "## Conteúdo:\n",
        "\n",
        "* Importância da análise de complexidade\n",
        "* Função de contagem de atribuições:~> $T : \\mathbb{N} \\to \\mathbb{N}$\n",
        "* Comparação entre complexidades\n",
        "* Notação O-grande (Big - O): $\\mathcal{O}$\n",
        "* Exemplos recorrentes\n",
        "\n",
        "## Bibliografias\n",
        "\n",
        "* Apostila do professor Alexandre Levada: https://ava2.ead.ufscar.br/pluginfile.php/594948/mod_resource/content/3/Complexidade.pdf.\n",
        "* Livro de notas de aula \"[Análise de Algoritmos e Estruturas de Dados](https://www.ime.usp.br/~mota/livros/livro_AAED.pdf)\" (2020), dos professores Lintzmayer, C. N. & Mota, G. O.."
      ],
      "metadata": {
        "id": "jnp87jif8oEe"
      }
    },
    {
      "cell_type": "markdown",
      "source": [
        "# Importância da análise de complexidade"
      ],
      "metadata": {
        "id": "FgHt3WQP-M4f"
      }
    },
    {
      "cell_type": "markdown",
      "source": [
        "O conceito de complexidade de um algoritmo está diretamente associado a sua eficiência em solucionar um problema. Tendo em vista que um problema pode ser solucionado por vários algoritmos diferentes, então podemos estabelecer propriedades a cada um desses  algoritmos a fim de compará-los e definir qual é mais ou menos apropriado na resolução de um problema.\n",
        "\n",
        "Uma dessas propriedades pode ser o uso de recursos computacionais (memória e processamento) utilizado pelo algoritmo. Dessa forma, quanto **mais recursos computacionais** um algoritmo demanda **maior é sua complexidade computacional**.\n",
        "\n",
        "Como exemplo, vamos supor que o tempo computacional que um algoritmo necessita para solucionar um problema seja utilizado para definir sua complexidade computacional. Sendo assim, quanto mais tempo um algoritmo leva para solucionar um problema, maior é sua complexidade."
      ],
      "metadata": {
        "id": "dKw6SusUBwCI"
      }
    },
    {
      "cell_type": "code",
      "execution_count": null,
      "metadata": {
        "id": "cSXfbeUB6nvC"
      },
      "outputs": [],
      "source": [
        "def algoritmo_de_ordem_n(n):\n",
        "\n",
        "    print(\"Começo do algoritmo\")\n",
        "\n",
        "    x = 0\n",
        "    for i in range(n): # varredura em n elementos\n",
        "        x = x + i\n",
        "\n",
        "    return x"
      ]
    },
    {
      "cell_type": "code",
      "source": [
        "def algoritmo_de_ordem_n_cubica(n):\n",
        "\n",
        "    x = 0\n",
        "    for i in range(n): # varredura em n elementos\n",
        "        for j in range(n):\n",
        "          for k in range(n):\n",
        "              x = x + i\n",
        "\n",
        "    x = x / (n ** 2)\n",
        "\n",
        "    return x"
      ],
      "metadata": {
        "id": "ldfVwAKK-2r9"
      },
      "execution_count": null,
      "outputs": []
    },
    {
      "cell_type": "code",
      "source": [
        "from time import time # pacote para contabilizar tempo gasto em processamento\n",
        "\n",
        "n = 300\n",
        "\n",
        "# Execução do algoritmo de n + 1 atribuições -----------------------------------\n",
        "tempo_inicial_do_algoritmo_de_ordem_n = time() # Tempo atual antes do algoritmo ser executado\n",
        "\n",
        "soma_ordem_n = algoritmo_de_ordem_n(n) # Execução do algoritmo\n",
        "\n",
        "tempo_final_do_algoritmo_de_ordem_n   = time() # Tempo atual após o algoritmo ter sido finalizado\n",
        "#-------------------------------------------------------------------------------\n",
        "\n",
        "\n",
        "# Execução do algoritmo de n³ + 2 atribuições -----------------------------------\n",
        "tempo_inicial_do_algoritmo_de_ordem_n_cubica = time()\n",
        "\n",
        "soma_ordem_n_cub = algoritmo_de_ordem_n_cubica(n)\n",
        "\n",
        "tempo_final_do_algoritmo_de_ordem_n_cubica   = time()\n",
        "#-------------------------------------------------------------------------------\n",
        "\n",
        "print(\"soma_ordem_n = \", soma_ordem_n)\n",
        "print(\"soma_ordem_n_cub = \", soma_ordem_n_cub)\n",
        "\n",
        "tempo_final_n = tempo_final_do_algoritmo_de_ordem_n - tempo_inicial_do_algoritmo_de_ordem_n\n",
        "print(\"Tempo gasto em n + 1 atribuições: \", tempo_final_n, \" segundo(s)\")\n",
        "\n",
        "tempo_final_n_cub = tempo_final_do_algoritmo_de_ordem_n_cubica - tempo_inicial_do_algoritmo_de_ordem_n_cubica\n",
        "print(\"Tempo gasto em n³ + 2 atribuições: \", tempo_final_n_cub, \" segundo(s)\")\n",
        "\n",
        "print(\"O algoritmo com n³+2 atribuições demora \", tempo_final_n_cub/tempo_final_n, \"vezes o tempo do algoritmo de n+1 atribuições\")"
      ],
      "metadata": {
        "colab": {
          "base_uri": "https://localhost:8080/"
        },
        "id": "1kJhVVGQ_NQy",
        "outputId": "c6042082-00fd-4920-8d62-bc61b091b7a4"
      },
      "execution_count": null,
      "outputs": [
        {
          "output_type": "stream",
          "name": "stdout",
          "text": [
            "Começo do algoritmo\n",
            "soma_ordem_n =  44850\n",
            "soma_ordem_n_cub =  44850.0\n",
            "Tempo gasto em n + 1 atribuições:  0.00022721290588378906  segundo(s)\n",
            "Tempo gasto em n³ + 2 atribuições:  1.624635934829712  segundo(s)\n",
            "O algoritmo com n³+2 atribuições demora  7150.280167890871 vezes o tempo do algoritmo de n+1 atribuições\n"
          ]
        }
      ]
    },
    {
      "cell_type": "markdown",
      "source": [
        "**Importante:** Tempo computacional depende da máquina. Assim, esta não é uma boa propriedade para mensuração de eficiência de um dado algoritmo. Dessa forma, vamos utilizar outra propriedade para determinar a complexidade de um algoritmo: a quantidade de atribuições em seu código."
      ],
      "metadata": {
        "id": "tKjxmUdtFCrv"
      }
    },
    {
      "cell_type": "markdown",
      "source": [
        "## **A função de contagem de atribuições**\n",
        "\n",
        "**<font color='blue'>Definição 1</font>**: Seja $\\mathbf{A}$ um algoritmo que dependa de um número natural $n$. Então define-se como função de contagem de atribuições de $\\mathbf{A}$ a função $T_\\mathbf{A}:\\mathbb{N}\\to\\mathbb{N}$, tal que $T_\\mathbf{A}(n)$ seja a quantidade total de atribuições de variáveis efetuadas em $\\mathbf{A}$."
      ],
      "metadata": {
        "id": "wyO3jGjBPLGC"
      }
    },
    {
      "cell_type": "markdown",
      "source": [
        "**Exemplo 1**: Considere o algoritmo que some os valores inteiros de $1$ até um número natural $n$:\n",
        "\n",
        "\n",
        "\n",
        "```python\n",
        "def soma_1_ate_n(n):\n",
        "\n",
        "    x = 0 # 1 atribuição\n",
        "\n",
        "    for i in range(1, n+1): # varredura em n elementos\n",
        "        x = x + i # 1 atribuição\n",
        "\n",
        "    return x\n",
        "```\n",
        "\n",
        "**Fato**: O número total de atribuições efetuadas no algoritmo definido na função ```soma_1_ate_n(n)``` é exatamente igual a $n+1$. Assim, a função $T$ associada a este algoritmo é\n",
        "\n",
        "$$T(n) = n + 1.$$\n",
        "\n",
        "\n"
      ],
      "metadata": {
        "id": "N0469mJ_QPD_"
      }
    },
    {
      "cell_type": "markdown",
      "source": [
        "# Comparação entre complexidades"
      ],
      "metadata": {
        "id": "t7M0AzJfphkj"
      }
    },
    {
      "cell_type": "markdown",
      "source": [
        "**Exemplo 2**: Considere dois algoritmos $A$ e $B$ que somam **$n$ vezes** os valores inteiros de $1$ até um número natural $n$:\n",
        "\n",
        "\n",
        "\n",
        "\n"
      ],
      "metadata": {
        "id": "0IMWoJz7b9ol"
      }
    },
    {
      "cell_type": "code",
      "source": [
        "def A(n):\n",
        "\n",
        "    x = 0 # 1 atribuição\n",
        "\n",
        "    for i in range(1,n+1): # varredura em n elementos\n",
        "        for j in range(1,n+1): # varredura em n elementos\n",
        "            x = x + j # 1 atribuição\n",
        "\n",
        "    return x\n",
        "\n",
        "def B(n):\n",
        "\n",
        "    x = 0 # 1 atribuição\n",
        "\n",
        "    for i in range(1,n+1): # varredura em n elementos\n",
        "          x = x + (i * n) # 1 atribuição\n",
        "\n",
        "    return x\n"
      ],
      "metadata": {
        "id": "jreABP12czk5"
      },
      "execution_count": null,
      "outputs": []
    },
    {
      "cell_type": "markdown",
      "source": [
        "**Fato**: O número total de atribuições efetuadas no algoritmo definido na função ```A(n)``` é exatamente igual a $n^2+1$. Assim, a função $T_A$ associada a este algoritmo é\n",
        "\n",
        "$$T_A(n) = n^2 + 1.$$\n",
        "\n",
        "Ao mesmo tempo, o número total de atribuições feitas no algoritmo definido na função ```B(n)``` é exatamente igual a $n+1$. Dessa forma, a função $T_B$ associada a este algoritmo é\n",
        "\n",
        "$$T_B(n) = n + 1.$$"
      ],
      "metadata": {
        "id": "BEXBanMhc4qK"
      }
    },
    {
      "cell_type": "code",
      "source": [
        "from time import time # pacote para contabilizar tempo gasto em processamento\n",
        "\n",
        "n = 30000\n",
        "\n",
        "# Avaliação de A\n",
        "tick    = time()\n",
        "soma_A  = A(n)\n",
        "tack    = time()\n",
        "\n",
        "Tempo_A = tack - tick\n",
        "\n",
        "# Avaliação de B\n",
        "tick    = time()\n",
        "soma_B  = B(n)\n",
        "tack    = time()\n",
        "\n",
        "Tempo_B = tack - tick\n",
        "\n",
        "print(\"Soma obtida por A = \", soma_A,\", soma obtida por B = \", soma_B)\n",
        "print(\"Tempo gasto por A = \", Tempo_A, \"s , tempo gasto por B = \", Tempo_B, \"s\")\n",
        "print(\"Tempo A / Tempo B = \", (Tempo_A / Tempo_B))"
      ],
      "metadata": {
        "colab": {
          "base_uri": "https://localhost:8080/"
        },
        "id": "hPtqu5q5c3HD",
        "outputId": "f5790072-a30f-4e9c-de4c-513518970899"
      },
      "execution_count": null,
      "outputs": [
        {
          "output_type": "stream",
          "name": "stdout",
          "text": [
            "Soma obtida por A =  13500450000000 , soma obtida por B =  13500450000000\n",
            "Tempo gasto por A =  63.6441388130188 s , tempo gasto por B =  0.0032701492309570312 s\n",
            "Tempo A / Tempo B =  19462.151210265383\n"
          ]
        }
      ]
    },
    {
      "cell_type": "markdown",
      "source": [
        "**Fato**: Quanto maior o valor de $n$ maior é a diferença entre o número de atribuições necessárias para a execução dos algoritmos ```A``` e ```B```. Na verdade, se considerarmos que $n$ tende ao infinito, teremos:\n",
        "\n",
        "<br/>\n",
        "$$\\lim_{n\\to+∞} \\frac{T_B(n)}{T_A(n)} = \\lim_{n\\to+∞} \\frac{n + 1}{n^2 + 1} = \\lim_{n\\to+∞} \\frac{n/n + 1/n}{n^2/n + 1/n} = \\lim_{n\\to+∞} \\frac{1 + 1/n}{n + 1/n} = \\lim_{n\\to+∞} \\frac{1}{n} = 0.$$\n",
        "<br/>\n",
        "\n",
        "Do mesmo modo, é fácil comprovar que $$ \\lim_{n\\to+∞} \\frac{T_A(n)}{T_B(n)} = +∞.$$"
      ],
      "metadata": {
        "id": "gOiZlqJWfB0n"
      }
    },
    {
      "cell_type": "markdown",
      "source": [
        "## <font color='blue'>**Definição 2**</font>: Sejam ```A``` e ```B``` dois algoritmos dedicados a solucionar o mesmo problema, sendo dependentes da mesma parametrização $n \\in \\mathbb{N}$ e resultando na mesma estrutura e nos mesmos valores. Além disso, $T_A$ e $T_B$ são, respectivamente, as funções que contabilizam o número total de atribuições que os algoritmos ```A``` e ```B``` efetuam.\n",
        "\n",
        "##Então dizemos que ```A``` **é mais complexo** (ou menos eficiente) **que** ```B``` se, e somente se,\n",
        "\n",
        "##$$ \\lim_{n\\to+∞} \\frac{T_A(n)}{T_B(n)} = +∞.$$\n",
        "\n",
        "<br/>\n",
        "\n",
        "##Do mesmo modo, dizemos que ```A``` **é menos complexo** (ou mais eficiente) **que** ```B``` se, e somente se,\n",
        "\n",
        "##$$ \\lim_{n\\to+∞} \\frac{T_A(n)}{T_B(n)} = 0.$$"
      ],
      "metadata": {
        "id": "_dVAlIufhuux"
      }
    },
    {
      "cell_type": "markdown",
      "source": [
        "### **Propriedade 1**: Considere ```A``` e ```B``` dois algoritmos que solucionam o mesmo problema e $T_A(n)$ e $T_B(n)$ suas respectivas quantidades de atribuições. Então as implicações a seguir são válidas:\n",
        "\n",
        "###(a) Se ```A``` é mais complexo que ```B```, então $\\lim_{n\\to +∞} \\frac{T_B(n)}{T_A(n)} = 0.$\n",
        "\n",
        "###(a) Se ```A``` é menos complexo que ```B```, então $\\lim_{n\\to +∞} \\frac{T_B(n)}{T_A(n)} = +∞.$\n",
        "\n",
        "### **Demonstração**: Decorrente da definição."
      ],
      "metadata": {
        "id": "xQMt2zNdjiPm"
      }
    },
    {
      "cell_type": "markdown",
      "source": [
        "### **Exemplo 3**: Para ordenar os elementos de uma lista numérica de $n$ elementos, o algoritmo conhecido como *Quick Sort* necessita realizar aproximadamente $n^2$ atribuições, enquanto que o algoritmo conhecido como *Merge Sort* realiza aproximadamente $n\\cdot \\log(n)$ atribuições. Qual algoritmo é mais eficiente para solucionar o problema em questão?"
      ],
      "metadata": {
        "id": "zpTjljj3mByq"
      }
    },
    {
      "cell_type": "markdown",
      "source": [
        "**Solução**: Considere:\n",
        "\n",
        "* Número de atribuições do Quick Sort: $T_{Q}(n) = n^2$.\n",
        "* Número de atribuições do Merge Sort: $T_{M}(n) = n\\cdot \\log(n)$.\n",
        "\n",
        "Vamos avaliar o comportamento destas duas funções quando $n$ assume valores muito grandes:\n",
        "\n",
        "$$\\lim_{n\\to +∞} \\frac{n\\cdot \\log(n)} {n^2} = \\lim_{n\\to +∞} \\frac{\\log(n)} {n} = \\frac{+∞}{+∞}$$\n",
        "\n",
        "Aplicar L'Hospital\n",
        "\n",
        "$$\\lim_{n\\to +∞} \\frac{n\\cdot \\log(n)} {n^2} = \\lim_{n\\to +∞} \\frac{\\log(n)} {n} = \\lim_{n\\to +∞} \\frac{1/n} {1} = \\lim_{n\\to +∞} \\frac{1} {n} = 0.$$\n",
        "\n",
        "Assim, o algoritmo Merge Sort é mais eficiente (ou menos complexo) que o algoritmo Quick Sort."
      ],
      "metadata": {
        "id": "oWXsn1CJnhrH"
      }
    },
    {
      "cell_type": "markdown",
      "source": [
        "# Notação O-grande (Big-O): $\\mathcal{O}$\n",
        "\n",
        "\n",
        "\n",
        "<font color = \"blue\">**Definição 3**:</font> Suponha que ```A``` e ```B``` são dois algoritmos dedicados a solucionar o mesmo problema e a quantidade de atribuições conduzidas durante seus respectivos processos são dependentes de um valor natural $n$ e determinadas pelas funções contínuas $T_A$ e $T_B$. Se nem ```A``` é mais eficiente que ```B``` e nem ```B``` é mais eficiente que ```A```, então dizemos que ```A``` **é de mesma ordem de complexidade que** ```B```, ou ainda que $T_A(n)$ **é da ordem de complexidade** $T_B(n)$, e utilizamos a seguinte notação: $$T_A(n) = \\mathcal{O}(T_B(n)).$$"
      ],
      "metadata": {
        "id": "YZAvgtTHpL-R"
      }
    },
    {
      "cell_type": "markdown",
      "source": [
        "**Nota**: Uma forma alternativa de dizer que dois algoritmos ```A``` e ```B``` possuem a mesma complexidade é quando os limites de suas quantidades de atribuições $T_A(n)$ e $T_B(n)$ (Definição 2) existem e são diferentes de 0.\n",
        "\n",
        "Neste caso, temos que\n",
        "\n",
        "$$T_A(n) = \\mathcal{O}(T_B(n))\\quad ⟺ \\quad∃ C, n_0 \\quad| \\quad∀n\\geq n_0, \\quad  C\\cdot T_B(n) \\geq T_A(n).$$"
      ],
      "metadata": {
        "id": "2hsvNnMyvuOz"
      }
    },
    {
      "cell_type": "markdown",
      "source": [
        "### **Exemplo 4**: Mostre que um algoritmo que possua total de atribuições $T(n)=3n^2+2n+10$ é da ordem de complexidade $n^2$."
      ],
      "metadata": {
        "id": "HzrxOrT0xTfk"
      }
    },
    {
      "cell_type": "markdown",
      "source": [
        "**Solução**: Vamos mostrar que nenhum dos algoritmos em questão é mais eficiente. Para isso, vamos calcular o resultado do limite de $\\frac{T(n)}{n^2}$ quando $n$ tende ao infinito.\n",
        "\n",
        "$$\\lim_{n \\to +∞} \\frac{T(n)}{n^2} = \\lim_{n \\to +∞} \\frac{3n^2+2n+10}{n^2} = \\lim_{n \\to +∞} \\frac{3n^2/n^2+2n/n^2+10/n^2}{n^2/n^2} = \\lim_{n \\to +∞} \\frac{3+2/n+10/n^2}{1} = 3. $$\n",
        "\n",
        "Como $\\lim_{n \\to +∞} \\frac{T(n)}{n^2}$ é um resultado finito e diferente de $0$, então nenhum dos algoritmos considerados pode ser dito mais eficiente. Sendo assim, $T(n) = \\mathcal{O}(n^2)$, ou seja, $T(n)$ é da ordem de $n^2$."
      ],
      "metadata": {
        "id": "BOEUPf6MyVjc"
      }
    },
    {
      "cell_type": "markdown",
      "source": [
        "**Solução alternativa**: Vamos mostrar que existe uma constante $C$ e um valor natural $n_0$ tais que, para qualquer $n \\geq n_0$, temos que $$T(n) \\leq Cn^2.$$\n",
        "\n",
        "De fato, existem $C = 4$ e $n_0 = 5$ tais que a desigualdade acima é verdadeira para qualquer $n \\geq n_0$, uma vez que\n",
        "\n",
        "$$3n^2 + 2n + 10 \\leq 4n^2 ⟺ -n^2 + 2n + 10 \\leq 0$$\n",
        "\n",
        "e $(-n^2 + 2n + 10)$ é um valor negativo para todo $n\\geq 5$."
      ],
      "metadata": {
        "id": "RSUy3xbi128j"
      }
    },
    {
      "cell_type": "markdown",
      "source": [
        "<font color='blue'>**Nomenclatura**</font>: É muito comum associarmos a complexidade de um algoritmo ao termo **dominante**, ou que possui **maior taxa de crescimento**, de sua quantidade total de atribuições. Por exemplo, se o algoritmo ```A``` possui quantidade total de atribuição $T_A(n)$ definida por\n",
        "\n",
        "* $an+b, a\\neq 0$ então dizemos que o algoritmo possui complexidade de ordem $n$, ou seja, é $\\mathcal{O}(n)$.\n",
        "\n",
        "* $an^2 + bn + c, a\\neq 0$ então dizemos que o algoritmo possui complexidade de ordem $n^2$, ou seja, é $\\mathcal{O}(n^2)$.\n",
        "\n",
        "* $an^3 + bn^2 + cn+d, a\\neq 0$ então dizemos que o algoritmo possui complexidade de ordem $n^3$, ou seja, é $\\mathcal{O}(n^3)$.\n",
        "\n",
        "* $a\\log(n)+b, a\\neq 0$ então dizemos que o algoritmo possui complexidade de ordem $\\log(n)$, ou seja, é $\\mathcal{O}(\\log(n))$.\n",
        "\n",
        "* $an\\log(n)+b\\log(n)+c, a\\neq 0$ então dizemos que o algoritmo possui complexidade de ordem $n\\log(n)$, ou seja, é $\\mathcal{O}(n\\log(n))$.\n",
        "\n",
        "* $a2^n +bn\\log(n)+c\\log(n)+\\sum_{i=0} d_i x^i, a\\neq 0$ então dizemos que o algoritmo possui complexidade de ordem $2^n$, ou seja, é $\\mathcal{O}(2^n)$."
      ],
      "metadata": {
        "id": "G9PgAwvl3HcZ"
      }
    },
    {
      "cell_type": "code",
      "source": [
        "import matplotlib.pyplot as plt\n",
        "from numpy import linspace, log2\n",
        "\n",
        "n     = 100\n",
        "passo = 1\n",
        "x = range(n)#linspace(1, passo, n)\n",
        "\n",
        "T_logn  = [log2(i) for i in x]\n",
        "T_n     = x\n",
        "T_nlogn = [i*log2(i) for i in x]\n",
        "T_n2    = [i**2 for i in x]\n",
        "T_n3    = [i**3 for i in x]\n",
        "T_2n    = [2**i for i in x]\n",
        "\n",
        "plt.plot(x, T_logn, 'black')\n",
        "plt.plot(x, T_n, 'blue')\n",
        "plt.plot(x, T_nlogn, 'green')\n",
        "plt.plot(x, T_n2, 'yellow')\n",
        "plt.plot(x, T_n3, 'orange')\n",
        "plt.plot(x, T_2n, 'red')"
      ],
      "metadata": {
        "id": "2nIy0Zhf_Stf",
        "colab": {
          "base_uri": "https://localhost:8080/",
          "height": 398
        },
        "outputId": "b8047b6c-765b-4747-afe1-9cb3416d223d"
      },
      "execution_count": null,
      "outputs": [
        {
          "output_type": "stream",
          "name": "stderr",
          "text": [
            "/usr/local/lib/python3.7/dist-packages/ipykernel_launcher.py:8: RuntimeWarning: divide by zero encountered in log2\n",
            "  \n",
            "/usr/local/lib/python3.7/dist-packages/ipykernel_launcher.py:10: RuntimeWarning: divide by zero encountered in log2\n",
            "  # Remove the CWD from sys.path while we load stuff.\n",
            "/usr/local/lib/python3.7/dist-packages/ipykernel_launcher.py:10: RuntimeWarning: invalid value encountered in double_scalars\n",
            "  # Remove the CWD from sys.path while we load stuff.\n"
          ]
        },
        {
          "output_type": "execute_result",
          "data": {
            "text/plain": [
              "[<matplotlib.lines.Line2D at 0x7efda19f7fd0>]"
            ]
          },
          "metadata": {},
          "execution_count": 21
        },
        {
          "output_type": "display_data",
          "data": {
            "image/png": "[encoded data removed]",
            "text/plain": [
              "<Figure size 432x288 with 1 Axes>"
            ]
          },
          "metadata": {
            "needs_background": "light"
          }
        }
      ]
    },
    {
      "cell_type": "markdown",
      "source": [
        "# Exemplos recorrentes"
      ],
      "metadata": {
        "id": "-IVk-Lw95du5"
      }
    },
    {
      "cell_type": "markdown",
      "source": [
        "## **Exemplo 5**: Calcule a quantidade total de atribuições dos algoritmos a seguir e destaque sua ordem de complexidade de acordo com o termo dominante de sua função de quantidade total de atribuições."
      ],
      "metadata": {
        "id": "PBVazjCj5kNH"
      }
    },
    {
      "cell_type": "code",
      "source": [
        "def f1(n):\n",
        "\n",
        "    soma = 0 # 1 at\n",
        "    for i in range(n): # n elementos na varredura\n",
        "        soma = soma + i # n at\n",
        "\n",
        "    for i in range(n):\n",
        "        soma = soma - i/2 # n at\n",
        "\n",
        "    return soma\n",
        "\n",
        "# T(n) = 2n + 1\n",
        "# O(T(n)) = O(f1) = O(n)"
      ],
      "metadata": {
        "id": "eTRyTQljrt5D"
      },
      "execution_count": null,
      "outputs": []
    },
    {
      "cell_type": "code",
      "source": [
        "def f2(n):\n",
        "\n",
        "    soma = 0 # 1 at\n",
        "    for i in range(n): # n elementos\n",
        "        soma = soma + i # n at\n",
        "\n",
        "        for j in range(n): # n elementos\n",
        "            soma = soma - j/2 # (n at)*n = n² atribuições\n",
        "\n",
        "    return soma\n",
        "\n",
        "# T(n) = n² + n + 1\n",
        "# O(f2) = O(n²)"
      ],
      "metadata": {
        "id": "rGlD-Bzp6Ojf"
      },
      "execution_count": null,
      "outputs": []
    },
    {
      "cell_type": "code",
      "source": [
        "def f3(n):\n",
        "\n",
        "    soma = 0 # 1 at\n",
        "    for i in range(n): # n elementos\n",
        "        soma = soma + i # n atribuições\n",
        "        if i > 5: # bloco com mais atribuições\n",
        "          soma = soma + 2*i  # n at\n",
        "          soma = soma / 2    # n at\n",
        "          soma = soma - 2**i # n at\n",
        "        elif i < 10:\n",
        "          soma = soma + 3*i\n",
        "          soma = soma * 2\n",
        "        else:\n",
        "          soma = soma / 2\n",
        "\n",
        "    return soma\n",
        "\n",
        "# T(n) = 4n + 1\n",
        "# O(f3) = O(n)"
      ],
      "metadata": {
        "id": "5XkdoMh56cKj"
      },
      "execution_count": null,
      "outputs": []
    },
    {
      "cell_type": "code",
      "source": [
        "def f4(n):\n",
        "\n",
        "    soma  = 0 # 1 at\n",
        "    i     = n # 1 at\n",
        "    while i > 1:\n",
        "        soma = soma + i # numpy.floor(log(n)) atribuições\n",
        "        i    = i // 2 # Divisão inteira (i = numpy.floor(i/2)). Ex.: 5//2 resultará em 2\n",
        "                       # numpy.floor(log(n)) atribuições\n",
        "\n",
        "    return soma\n",
        "\n",
        "# T(n) = 2*numpy.floor(log(n)) + 2\n",
        "# O(f4) = O(log(n))"
      ],
      "metadata": {
        "id": "wHCsLhIh6n81"
      },
      "execution_count": null,
      "outputs": []
    },
    {
      "cell_type": "markdown",
      "source": [
        "| n | Variações do ```i``` | Quantidades de repetições | Limites de n definidos pelas potências de 2\n",
        "| :- | -: | :-: | :-: |\n",
        "| 17 | [17,8,4,2,1] | 4 | Entre $2^4$ e $2^5$\n",
        "| 16 | [16,8,4,2,1] | 4 | Entre $2^3$ e $2^4$\n",
        "| 15 | [15,7,3,1] | 3 | Entre $2^3$ e $2^4$\n",
        "| 14 | [14,7,3,1] | 3 | Entre $2^3$ e $2^4$\n",
        "| 13 | [13,6,3,1] | 3 | Entre $2^3$ e $2^4$\n",
        "| 12 | [12,6,3,1] | 3 | Entre $2^3$ e $2^4$\n",
        "| 11 | [11,5,2,1] | 3 | Entre $2^3$ e $2^4$\n",
        "| 10 | [10,5,2,1] | 3 | Entre $2^3$ e $2^4$\n",
        "| 9 | [9,4,2,1] | 3 | Entre $2^3$ e $2^4$\n",
        "| 8 | [8,4,2,1] | 3 | Entre $2^2$ e $2^3$\n",
        "| 7 | [7,3,1] | 2 | Entre $2^2$ e $2^3$\n",
        "| 6 | [6,3,1] | 2 | Entre $2^2$ e $2^3$\n",
        "| 5 | [5,2,1] | 2 | Entre $2^2$ e $2^3$\n",
        "| 4 | [4,2,1] | 2 | Entre $2^1$ e $2^2$\n",
        "| 3 | [3,1] | 1 | Entre $2^1$ e $2^2$\n",
        "| 2 | [2,1] | 1 | Entre $2^1$ e $2^2$"
      ],
      "metadata": {
        "id": "5fWqqfvm7RWL"
      }
    },
    {
      "cell_type": "code",
      "source": [
        "def f5(n):\n",
        "\n",
        "    soma  = 0 # 1 at\n",
        "    for j in range(n):\n",
        "        i = n # n at\n",
        "        while i > 1:\n",
        "            soma = soma + i # n*numpy.floor(log(n)) atribuições\n",
        "            i    = i // 2   # n*numpy.floor(log(n)) atribuições\n",
        "\n",
        "    return soma\n",
        "\n",
        "# T(n) = 2*n*numpy.floor(log(n)) + n + 1\n",
        "# O(f5) = O(nlog(n))"
      ],
      "metadata": {
        "id": "441fIpk57cGd"
      },
      "execution_count": null,
      "outputs": []
    },
    {
      "cell_type": "code",
      "source": [
        "def f6(n):\n",
        "\n",
        "    soma  = 0 # 1\n",
        "    for k in range(n):\n",
        "        for j in range(n):\n",
        "            i     = n # n²\n",
        "            # ------------------------------------------------------------------\n",
        "            #  O(n log(n))\n",
        "            # ------------------------------------------------------------------\n",
        "            while i > 1:\n",
        "                soma = soma + i # n²*numpy.floor(log(n))\n",
        "                i    = i // 2   # n²*numpy.floor(log(n))\n",
        "        #-----------------------------------------------------------------------\n",
        "\n",
        "    return soma\n",
        "\n",
        "# T(n) = 2*n²*numpy.floor(log(n)) + n² + 1\n",
        "# O(f6) = O(n²log(n))"
      ],
      "metadata": {
        "id": "scQoJzukCso5"
      },
      "execution_count": null,
      "outputs": []
    },
    {
      "cell_type": "code",
      "source": [
        "def f7(n):\n",
        "  result = 0 # 1 at\n",
        "  for i in range(n):\n",
        "    result = result + i # n at\n",
        "\n",
        "  return result\n",
        "# T_f7(n) = n + 1\n",
        "# O(f7) = O(n)\n",
        "\n",
        "def f8(n):\n",
        "\n",
        "  soma = 0 # 1 at\n",
        "  for i in range(1, n):\n",
        "    soma = soma + f7(i) # n*(n + 1) at\n",
        "\n",
        "  return soma\n",
        "# T_f8(n) = n*(n + 1) = n² + n + 1\n",
        "# O(f8) = O(n²)"
      ],
      "metadata": {
        "id": "WXwXDXZuM2C6"
      },
      "execution_count": null,
      "outputs": []
    },
    {
      "cell_type": "code",
      "source": [
        "def f9(n):\n",
        "    result = 0 # 1 at\n",
        "    for i in range(n): # n elementos\n",
        "      for j in range(i+1): # i+1 elementos\n",
        "        result = result + 3 #  (n/2)*(n+1) = n²/2 + n/2\n",
        "    return result\n",
        "\n",
        "# T(n) = n²/2 + n/2 + 1\n",
        "# O(f9) = O(n²)"
      ],
      "metadata": {
        "id": "LOrMAOrJOlBg"
      },
      "execution_count": null,
      "outputs": []
    },
    {
      "cell_type": "markdown",
      "source": [
        "| Valor de ```i``` | Valores de ```j``` | Quantidades de repetições no segundo laço de repetição for\n",
        "| :- | -:   |-: |\n",
        "| 0 | [0]   | 1 |\n",
        "| 1 | [0,1] | 2 |\n",
        "| 2 | [0,1,2] | 3 |\n",
        "| $\\vdots$ | $\\vdots$ | $\\vdots$ |\n",
        "| n-1 | [0, 1, 2, ..., n-1] | n |\n",
        "\n",
        "**Total de repetições:**\n",
        "\n",
        "Se $n$ for par:\n",
        "\n",
        "\n",
        "Exemplo: $1+2+3+4+5+6 = (6+1) + (5+2) + (4 + 3)$\n",
        "\n",
        "<br/>\n",
        "$$1 + 2 + 3 + ... + (n-2) + (n-1) + n = (n+1) + [(n-1)+2] + [(n-2) + 3] + ... + \\left[\\frac{n}{2} + \\left(\\frac{n}{2}+1\\right)\\right]  = \\frac{n}{2}(n+1). $$\n",
        "\n",
        "<br/>\n",
        "Se $n$ for ímpar:\n",
        "\n",
        "Exemplo: $1+2+3+4+5 = (5+1) + (4+2) + 3$\n",
        "\n",
        "<br/>\n",
        "$$ 1 + 2 + 3 + ... + (n-2) + (n-1) + n  = (n+1) + [(n-1)+2] + [(n-2) + 3] + ... + \\frac{n+1}{2} = \\frac{n-1}{2}(n+1) + \\frac{n+1}{2} = \\frac{n+1}{2}[(n-1) + 1] = \\frac{n}{2}(n+1). $$\n",
        "\n",
        "Ambos os casos, temos que a soma $1+2+3+...+n$ é igual a $\\frac{n}{2}(n+1)$."
      ],
      "metadata": {
        "id": "F6-vTuaFO2qQ"
      }
    }
  ]
}