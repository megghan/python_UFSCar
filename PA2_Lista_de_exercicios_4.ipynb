{
  "nbformat": 4,
  "nbformat_minor": 0,
  "metadata": {
    "colab": {
      "provenance": [],
      "include_colab_link": true
    },
    "kernelspec": {
      "name": "python3",
      "display_name": "Python 3"
    },
    "language_info": {
      "name": "python"
    }
  },
  "cells": [
    {
      "cell_type": "markdown",
      "metadata": {
        "id": "view-in-github",
        "colab_type": "text"
      },
      "source": [
        "<a href=\"https://colab.research.google.com/github/megghan/python_UFSCar/blob/main/PA2_Lista_de_exercicios_4.ipynb\" target=\"_parent\"><img src=\"https://colab.research.google.com/assets/colab-badge.svg\" alt=\"Open In Colab\"/></a>"
      ]
    },
    {
      "cell_type": "markdown",
      "source": [
        "# <font color='blue'> Lista de exercícios 4 - PA2 </font>\n",
        "\n",
        "### Métodos elementares de ordenação de listas numéricas"
      ],
      "metadata": {
        "id": "ucxSpvLZ9Gg1"
      }
    },
    {
      "cell_type": "markdown",
      "source": [
        "**Exercício 1 (3 pontos):** Escreva um programa em Python que conduza a ordenação de uma lista em ordem <font color='green'>**decrescente**</font> de acordo com a estratégia da técnica:"
      ],
      "metadata": {
        "id": "vwz3zhD39U2c"
      }
    },
    {
      "cell_type": "markdown",
      "source": [
        "(a) *Bubble Sort*."
      ],
      "metadata": {
        "id": "v3n_3vLm9rOi"
      }
    },
    {
      "cell_type": "code",
      "execution_count": null,
      "metadata": {
        "id": "SWQRYuN19DEB",
        "colab": {
          "base_uri": "https://localhost:8080/"
        },
        "outputId": "75097d09-0ffa-4022-f878-f088823bd006"
      },
      "outputs": [
        {
          "output_type": "stream",
          "name": "stdout",
          "text": [
            "[2, 3, 5, 5, 5, 5, 7, 8, 8, 22, 32, 46, 234, 454, 4345]\n"
          ]
        }
      ],
      "source": [
        "#\n",
        "\n",
        "def bubble_sort(lista):\n",
        "  for j in range(len(lista)-1):\n",
        "    for i in range(len(lista) - 1 - j):\n",
        "      if(lista[i]>lista[i+1]):\n",
        "        aux = lista[i+1]\n",
        "        lista[i+1]=lista[i]\n",
        "        lista[i]=aux\n",
        "\n",
        "  return lista\n",
        "\n",
        "print(bubble_sort(L))"
      ]
    },
    {
      "cell_type": "markdown",
      "source": [
        "(b) *Selection Sort*."
      ],
      "metadata": {
        "id": "35EACLTM9wX3"
      }
    },
    {
      "cell_type": "code",
      "execution_count": null,
      "metadata": {
        "id": "prH0JQ1L9wX3",
        "colab": {
          "base_uri": "https://localhost:8080/"
        },
        "outputId": "12def072-d305-43bb-ed67-b7295df35066"
      },
      "outputs": [
        {
          "output_type": "stream",
          "name": "stdout",
          "text": [
            "[2, 3, 5, 5, 5, 5, 7, 8, 8, 22, 32, 46, 234, 454, 4345]\n"
          ]
        }
      ],
      "source": [
        "#\n",
        "\n",
        "\n",
        "def selection_sort(p):\n",
        "  for i in range(len(p)-1):\n",
        "    pos_menor=i\n",
        "    for j in range(i+1, len(p)):\n",
        "      if p[pos_menor]>p[j]:\n",
        "        pos_menor = j\n",
        "    aux=p[pos_menor]\n",
        "    p[pos_menor] = p[i]\n",
        "    p[i] = aux\n",
        "\n",
        "  return p\n",
        "\n",
        "print(selection_sort(L))"
      ]
    },
    {
      "cell_type": "markdown",
      "source": [
        "(c) *Insertion Sort*."
      ],
      "metadata": {
        "id": "8mjdYaX59w1C"
      }
    },
    {
      "cell_type": "code",
      "execution_count": null,
      "metadata": {
        "id": "xlkdyEZb9w1C",
        "colab": {
          "base_uri": "https://localhost:8080/"
        },
        "outputId": "13d78db6-0fb5-4b6a-b281-ae6850084e77"
      },
      "outputs": [
        {
          "output_type": "stream",
          "name": "stdout",
          "text": [
            "[2, 3, 5, 5, 5, 5, 7, 8, 8, 22, 32, 46, 234, 454, 4345]\n"
          ]
        }
      ],
      "source": [
        "#\n",
        "\n",
        "def insertion_sort(l):\n",
        "  n=len(l)\n",
        "  for i in range(1,n):\n",
        "    pos_atual = i\n",
        "\n",
        "    while pos_atual>0 and (l[pos_atual]<l[pos_atual-1]):\n",
        "      aux=l[pos_atual]\n",
        "      l[pos_atual] = l[pos_atual-1]\n",
        "      l[pos_atual-1] = aux\n",
        "      pos_atual-=1\n",
        "\n",
        "  return l\n",
        "\n",
        "print(insertion_sort(L))"
      ]
    },
    {
      "cell_type": "markdown",
      "source": [
        "**Exercício 2 (3 pontos):** Escreva um programa em Python que conduza a ordenação de uma lista em ordem <font color='green'>**crescente**</font> e que retorne os índices referentes aos elementos desta lista. Em outras palavras, seu código deve funcionar de maneira semelhante à da função ```argsort``` do módulo numpy. Por exemplo, para o caso da lista ```L``` definida na seção de código abaixo, o seu programa deve apresentar na tela o conjunto de índices ```I_sort```."
      ],
      "metadata": {
        "id": "DdYu4t93-WWY"
      }
    },
    {
      "cell_type": "code",
      "source": [
        "from numpy import argsort\n",
        "\n",
        "L = [5,5,2,234,5,7,8,8,4345,3,22,32,454,5,46]\n",
        "\n",
        "I_sort = argsort(L)\n",
        "\n",
        "print(I_sort)"
      ],
      "metadata": {
        "colab": {
          "base_uri": "https://localhost:8080/"
        },
        "id": "eSbsOLT9-sD0",
        "outputId": "09ce869a-cff8-4e0a-c217-260e4d1d7829"
      },
      "execution_count": null,
      "outputs": [
        {
          "output_type": "stream",
          "name": "stdout",
          "text": [
            "[ 2  9  0  1  4 13  5  6  7 10 11 14  3 12  8]\n"
          ]
        }
      ]
    },
    {
      "cell_type": "markdown",
      "source": [
        "Além disso, seu código deve ser estruturado de acordo com as seguintes técnicas:"
      ],
      "metadata": {
        "id": "Fny-hg1F_bO-"
      }
    },
    {
      "cell_type": "markdown",
      "source": [
        "(a) *Bubble Sort*."
      ],
      "metadata": {
        "id": "vjecT2zt_ld8"
      }
    },
    {
      "cell_type": "code",
      "execution_count": null,
      "metadata": {
        "id": "8z7RAhsP_ld9",
        "colab": {
          "base_uri": "https://localhost:8080/"
        },
        "outputId": "047b5776-f50c-4488-989d-4f3f8ca04722"
      },
      "outputs": [
        {
          "output_type": "stream",
          "name": "stdout",
          "text": [
            "[2, 9, 0, 1, 4, 13, 5, 6, 7, 10, 11, 14, 3, 12, 8]\n"
          ]
        }
      ],
      "source": [
        "#Solução:~>\n",
        "\n",
        "def arg_bubble_sort(lista):\n",
        "  lista_original=lista[:]\n",
        "  lista_index=[]\n",
        "  for j in range(len(lista)-1):\n",
        "    for i in range(len(lista) - 1 - j):\n",
        "      if(lista[i]>lista[i+1]):\n",
        "        aux = lista[i+1]\n",
        "        lista[i+1]=lista[i]\n",
        "        lista[i]=aux\n",
        "\n",
        "  #\n",
        "  #criando lista com o indice de cada elemento\n",
        "  #\n",
        "  for k in range(len(lista)):\n",
        "\n",
        "    for n in range(len(lista_original)):\n",
        "      if lista[k]==lista_original[n]:\n",
        "        lista_index.append(n)\n",
        "        lista_original[n]=\"*\" #anula elementos por onde já fizemos a verificacao de indice\n",
        "\n",
        "  return lista_index\n",
        "\n",
        "L = [5,5,2,234,5,7,8,8,4345,3,22,32,454,5,46]\n",
        "I = arg_bubble_sort(L)\n",
        "print(I)"
      ]
    },
    {
      "cell_type": "markdown",
      "source": [
        "(b) *Selection Sort*."
      ],
      "metadata": {
        "id": "6ynrfYlr_ld9"
      }
    },
    {
      "cell_type": "markdown",
      "source": [
        "(c) *Insertion Sort*."
      ],
      "metadata": {
        "id": "BkyagBdw_ld9"
      }
    },
    {
      "cell_type": "code",
      "execution_count": null,
      "metadata": {
        "id": "yGDwnUv7_ld9",
        "colab": {
          "base_uri": "https://localhost:8080/"
        },
        "outputId": "9eb8a23b-b3a7-4c87-c6c5-8b39681eac5e"
      },
      "outputs": [
        {
          "output_type": "stream",
          "name": "stdout",
          "text": [
            "Indices (argsort):  [2, 9, 0, 1, 4, 13, 5, 6, 7, 10, 11, 14, 3, 12, 8]\n"
          ]
        }
      ],
      "source": [
        "# Solução:~>\n",
        "def arg_insertion_sort(L):\n",
        "\n",
        "  n = len(L) # 1 Atribuição\n",
        "\n",
        "  indices = list(range(n))\n",
        "  for i in range(1,n):\n",
        "\n",
        "        id_nova_carta = i\n",
        "\n",
        "        while ( (id_nova_carta > 0) and (L[id_nova_carta] < L[id_nova_carta - 1]) ):\n",
        "              # Como a lista já se encontra ordenada, esta malha nunca será utilizada\n",
        "\n",
        "              # Efetuação de trocas ------------------------------------------------\n",
        "              aux = L[id_nova_carta]\n",
        "              L[id_nova_carta] = L[id_nova_carta - 1]\n",
        "              L[id_nova_carta - 1] = aux\n",
        "\n",
        "              aux = indices[id_nova_carta]\n",
        "              indices[id_nova_carta]     = indices[id_nova_carta - 1]\n",
        "              indices[id_nova_carta - 1] = aux\n",
        "              #---------------------------------------------------------------------\n",
        "\n",
        "              id_nova_carta -= 1\n",
        "\n",
        "  return [L, indices]\n",
        "\n",
        "\n",
        "L = [5,5,2,234,5,7,8,8,4345,3,22,32,454,5,46]\n",
        "[L, I] = arg_insertion_sort(L)\n",
        "print(\"Indices (argsort): \", I)"
      ]
    },
    {
      "cell_type": "markdown",
      "source": [
        "**Exercício 3 (2 pontos):** A função ```time``` do módulo ```time``` recupera o horário do computador em que a mesma foi executada. Assim, para determinar a quantidade de tempo em que uma função ```f``` leva para ser completamente processada, basta utilizar a seguinte seção de código:"
      ],
      "metadata": {
        "id": "MSK03X7E_tXo"
      }
    },
    {
      "cell_type": "code",
      "source": [
        "def f(n):\n",
        "  x = 0\n",
        "  for i in range(n):\n",
        "    x = x + 1\n",
        "  return x\n",
        "\n",
        "# Medição de tempo computacional em segundos\n",
        "from time import time\n",
        "\n",
        "n = 100000000\n",
        "tempo_inicial = time()\n",
        "retorno       = f(n)\n",
        "tempo_final   = time()\n",
        "\n",
        "print(\"Tempo gasto para executar f:\", tempo_final - tempo_inicial, \"segundos.\")\n",
        "\n",
        "print(\"Seu computador (ou o google se for o colab) leva aproximadamente \",\n",
        "      (tempo_final - tempo_inicial)/n,\n",
        "      \"segundos para efetuar uma operação de soma pela linguagem Python 3.\")"
      ],
      "metadata": {
        "colab": {
          "base_uri": "https://localhost:8080/"
        },
        "id": "gekZiW16AT9f",
        "outputId": "51d1eba2-a2f1-4c52-85ae-dad1404ed943"
      },
      "execution_count": null,
      "outputs": [
        {
          "output_type": "stream",
          "name": "stdout",
          "text": [
            "Tempo gasto para executar f: 6.538795471191406 segundos.\n",
            "Seu computador (ou o google se for o colab) leva aproximadamente  6.538795471191406e-08 segundos para efetuar uma operação de soma pela linguagem Python 3.\n"
          ]
        }
      ]
    },
    {
      "cell_type": "markdown",
      "source": [
        "Utilize a função time para medir o desempenho dos programas escritos por você no **Exercício 1** para ordenar as seguintes listas:"
      ],
      "metadata": {
        "id": "ID4lgr3TBqWo"
      }
    },
    {
      "cell_type": "code",
      "source": [
        "from numpy import random as rd\n",
        "\n",
        "lista_0 = list(rd.uniform(-1,1,10))\n",
        "lista_1 = list(rd.uniform(-1,1,100))\n",
        "lista_2 = list(rd.uniform(-1,1,1000))\n",
        "lista_3 = list(rd.uniform(-1,1,10000))\n",
        "lista_4 = list(rd.uniform(-1,1,100000))\n",
        "lista_5 = list(rd.uniform(-1,1,1000000))\n",
        "lista_6 = list(rd.uniform(-1,1,10000000))"
      ],
      "metadata": {
        "id": "qYYDzEfQB-lw"
      },
      "execution_count": null,
      "outputs": []
    },
    {
      "cell_type": "code",
      "source": [
        "#Solução: Lista 0\n",
        "\n",
        "from time import time\n",
        "import pandas as pd\n",
        "\n",
        "meu_dicionario={}\n",
        "\n",
        "print(\"------------Tempo de execução em segundos---------\\n\")\n",
        "#BUBBLE SORT\n",
        "tempo_inicial = time()\n",
        "first_list = bubble_sort(lista_0)\n",
        "tempo_final = time()\n",
        "tempo_gasto_00 = tempo_final - tempo_inicial\n",
        "\n",
        "tempo_inicial = time()\n",
        "first_list = bubble_sort(lista_1)\n",
        "tempo_final = time()\n",
        "tempo_gasto_01 = tempo_final - tempo_inicial\n",
        "\n",
        "tempo_inicial = time()\n",
        "first_list = bubble_sort(lista_2)\n",
        "tempo_final = time()\n",
        "tempo_gasto_02 = tempo_final - tempo_inicial\n",
        "\n",
        "meu_dicionario[\"Bubble Sort\"]=[tempo_gasto_00, tempo_gasto_01, tempo_gasto_02]\n",
        "\n",
        "#SELECTION SORT\n",
        "tempo_inicial = time()\n",
        "first_list = selection_sort(lista_0)\n",
        "tempo_final = time()\n",
        "tempo_gasto_10 = tempo_final - tempo_inicial\n",
        "\n",
        "tempo_inicial = time()\n",
        "first_list = selection_sort(lista_1)\n",
        "tempo_final = time()\n",
        "tempo_gasto_11 = tempo_final - tempo_inicial\n",
        "\n",
        "tempo_inicial = time()\n",
        "first_list = selection_sort(lista_2)\n",
        "tempo_final = time()\n",
        "tempo_gasto_12 = tempo_final - tempo_inicial\n",
        "\n",
        "meu_dicionario[\"Selection Sort\"]=[tempo_gasto_10, tempo_gasto_11, tempo_gasto_12]\n",
        "\n",
        "#iNSERTION SORT\n",
        "tempo_inicial = time()\n",
        "first_list = insertion_sort(lista_0)\n",
        "tempo_final = time()\n",
        "tempo_gasto_20 = tempo_final - tempo_inicial\n",
        "\n",
        "tempo_inicial = time()\n",
        "first_list = insertion_sort(lista_1)\n",
        "tempo_final = time()\n",
        "tempo_gasto_21 = tempo_final - tempo_inicial\n",
        "\n",
        "tempo_inicial = time()\n",
        "first_list = insertion_sort(lista_2)\n",
        "tempo_final = time()\n",
        "tempo_gasto_22 = tempo_final - tempo_inicial\n",
        "\n",
        "meu_dicionario[\"Insertion Sort\"]=[tempo_gasto_20, tempo_gasto_21, tempo_gasto_22]\n",
        "\n",
        "df=pd.DataFrame(meu_dicionario, index=[\"lista_0\",\"lista_1\",\"lista_2\"])\n",
        "display(df)\n",
        "\n",
        "\n"
      ],
      "metadata": {
        "colab": {
          "base_uri": "https://localhost:8080/",
          "height": 180
        },
        "id": "dXWUQJqzeGRy",
        "outputId": "93d8f7c9-77de-42d9-c4f0-2f26e4d46ec7"
      },
      "execution_count": null,
      "outputs": [
        {
          "output_type": "stream",
          "name": "stdout",
          "text": [
            "------------Tempo de execução em segundos---------\n",
            "\n"
          ]
        },
        {
          "output_type": "display_data",
          "data": {
            "text/html": [
              "\n",
              "  <div id=\"df-493c8535-9151-4a05-93a4-958645685598\">\n",
              "    <div class=\"colab-df-container\">\n",
              "      <div>\n",
              "<style scoped>\n",
              "    .dataframe tbody tr th:only-of-type {\n",
              "        vertical-align: middle;\n",
              "    }\n",
              "\n",
              "    .dataframe tbody tr th {\n",
              "        vertical-align: top;\n",
              "    }\n",
              "\n",
              "    .dataframe thead th {\n",
              "        text-align: right;\n",
              "    }\n",
              "</style>\n",
              "<table border=\"1\" class=\"dataframe\">\n",
              "  <thead>\n",
              "    <tr style=\"text-align: right;\">\n",
              "      <th></th>\n",
              "      <th>Bubble Sort</th>\n",
              "      <th>Selection Sort</th>\n",
              "      <th>Insertion Sort</th>\n",
              "    </tr>\n",
              "  </thead>\n",
              "  <tbody>\n",
              "    <tr>\n",
              "      <th>lista_0</th>\n",
              "      <td>0.000052</td>\n",
              "      <td>0.000046</td>\n",
              "      <td>0.000037</td>\n",
              "    </tr>\n",
              "    <tr>\n",
              "      <th>lista_1</th>\n",
              "      <td>0.000603</td>\n",
              "      <td>0.000519</td>\n",
              "      <td>0.000047</td>\n",
              "    </tr>\n",
              "    <tr>\n",
              "      <th>lista_2</th>\n",
              "      <td>0.059795</td>\n",
              "      <td>0.049789</td>\n",
              "      <td>0.000212</td>\n",
              "    </tr>\n",
              "  </tbody>\n",
              "</table>\n",
              "</div>\n",
              "      <button class=\"colab-df-convert\" onclick=\"convertToInteractive('df-493c8535-9151-4a05-93a4-958645685598')\"\n",
              "              title=\"Convert this dataframe to an interactive table.\"\n",
              "              style=\"display:none;\">\n",
              "        \n",
              "  <svg xmlns=\"http://www.w3.org/2000/svg\" height=\"24px\"viewBox=\"0 0 24 24\"\n",
              "       width=\"24px\">\n",
              "    <path d=\"M0 0h24v24H0V0z\" fill=\"none\"/>\n",
              "    <path d=\"M18.56 5.44l.94 2.06.94-2.06 2.06-.94-2.06-.94-.94-2.06-.94 2.06-2.06.94zm-11 1L8.5 8.5l.94-2.06 2.06-.94-2.06-.94L8.5 2.5l-.94 2.06-2.06.94zm10 10l.94 2.06.94-2.06 2.06-.94-2.06-.94-.94-2.06-.94 2.06-2.06.94z\"/><path d=\"M17.41 7.96l-1.37-1.37c-.4-.4-.92-.59-1.43-.59-.52 0-1.04.2-1.43.59L10.3 9.45l-7.72 7.72c-.78.78-.78 2.05 0 2.83L4 21.41c.39.39.9.59 1.41.59.51 0 1.02-.2 1.41-.59l7.78-7.78 2.81-2.81c.8-.78.8-2.07 0-2.86zM5.41 20L4 18.59l7.72-7.72 1.47 1.35L5.41 20z\"/>\n",
              "  </svg>\n",
              "      </button>\n",
              "      \n",
              "  <style>\n",
              "    .colab-df-container {\n",
              "      display:flex;\n",
              "      flex-wrap:wrap;\n",
              "      gap: 12px;\n",
              "    }\n",
              "\n",
              "    .colab-df-convert {\n",
              "      background-color: #E8F0FE;\n",
              "      border: none;\n",
              "      border-radius: 50%;\n",
              "      cursor: pointer;\n",
              "      display: none;\n",
              "      fill: #1967D2;\n",
              "      height: 32px;\n",
              "      padding: 0 0 0 0;\n",
              "      width: 32px;\n",
              "    }\n",
              "\n",
              "    .colab-df-convert:hover {\n",
              "      background-color: #E2EBFA;\n",
              "      box-shadow: 0px 1px 2px rgba(60, 64, 67, 0.3), 0px 1px 3px 1px rgba(60, 64, 67, 0.15);\n",
              "      fill: #174EA6;\n",
              "    }\n",
              "\n",
              "    [theme=dark] .colab-df-convert {\n",
              "      background-color: #3B4455;\n",
              "      fill: #D2E3FC;\n",
              "    }\n",
              "\n",
              "    [theme=dark] .colab-df-convert:hover {\n",
              "      background-color: #434B5C;\n",
              "      box-shadow: 0px 1px 3px 1px rgba(0, 0, 0, 0.15);\n",
              "      filter: drop-shadow(0px 1px 2px rgba(0, 0, 0, 0.3));\n",
              "      fill: #FFFFFF;\n",
              "    }\n",
              "  </style>\n",
              "\n",
              "      <script>\n",
              "        const buttonEl =\n",
              "          document.querySelector('#df-493c8535-9151-4a05-93a4-958645685598 button.colab-df-convert');\n",
              "        buttonEl.style.display =\n",
              "          google.colab.kernel.accessAllowed ? 'block' : 'none';\n",
              "\n",
              "        async function convertToInteractive(key) {\n",
              "          const element = document.querySelector('#df-493c8535-9151-4a05-93a4-958645685598');\n",
              "          const dataTable =\n",
              "            await google.colab.kernel.invokeFunction('convertToInteractive',\n",
              "                                                     [key], {});\n",
              "          if (!dataTable) return;\n",
              "\n",
              "          const docLinkHtml = 'Like what you see? Visit the ' +\n",
              "            '<a target=\"_blank\" href=https://colab.research.google.com/notebooks/data_table.ipynb>data table notebook</a>'\n",
              "            + ' to learn more about interactive tables.';\n",
              "          element.innerHTML = '';\n",
              "          dataTable['output_type'] = 'display_data';\n",
              "          await google.colab.output.renderOutput(dataTable, element);\n",
              "          const docLink = document.createElement('div');\n",
              "          docLink.innerHTML = docLinkHtml;\n",
              "          element.appendChild(docLink);\n",
              "        }\n",
              "      </script>\n",
              "    </div>\n",
              "  </div>\n",
              "  "
            ],
            "text/plain": [
              "         Bubble Sort  Selection Sort  Insertion Sort\n",
              "lista_0     0.000052        0.000046        0.000037\n",
              "lista_1     0.000603        0.000519        0.000047\n",
              "lista_2     0.059795        0.049789        0.000212"
            ]
          },
          "metadata": {}
        }
      ]
    },
    {
      "cell_type": "markdown",
      "source": [
        "Apresente os resultados obtidos em forma de tabela: método x tempo gasto em segundos para cada lista. De preferência, crie um DataFrame com o módulo ```pandas``` para armazenar e apresentar o resultado na tela. Observando os resultados, é possível definir que algum dos métodos se saiu melhor com respeito a cada uma das listas isoladamente?\n",
        "# <font color='green'>Resposta </font>\n",
        "No geral vemos que o método Insertion sort se saiu melhor em todas as três listas, mesmo na lista 2 em que o método bubble e o selection tiveram um desempenho similar.\n",
        "É importante frisar que as outras listas não foram verificadas pois o tempo de execução principalmente no método bubble chegou a mais de hora."
      ],
      "metadata": {
        "id": "B43zxN2JCqKR"
      }
    },
    {
      "cell_type": "markdown",
      "source": [
        "**Exercício 4 (2 pontos):** Considere a lista de dicionários gerada abaixo:"
      ],
      "metadata": {
        "id": "DXZEpkz6Dj-G"
      }
    },
    {
      "cell_type": "code",
      "source": [
        "from numpy import random as rd\n",
        "\n",
        "lista_de_cadastro  = []\n",
        "\n",
        "numero_de_usuarios = 10\n",
        "\n",
        "primeiro_nome   = [\"Paola\", \"Rubí\", \"Maria\"]\n",
        "n_primeiro_nome = len(primeiro_nome)\n",
        "\n",
        "segundo_nome   = [\"Bracho\", \"Pérez Ochoa\", \"Mercedes\"]\n",
        "n_segundo_nome = len(segundo_nome)\n",
        "\n",
        "for i in range(numero_de_usuarios):\n",
        "\n",
        "   nome_1 = primeiro_nome[rd.randint(0,n_primeiro_nome)]\n",
        "   nome_2 = segundo_nome[rd.randint(0,n_segundo_nome)]\n",
        "\n",
        "   idade  = rd.randint(10,100)\n",
        "\n",
        "   usuario = {\"primeiro_nome\":nome_1, \"segundo_nome\":nome_2, \"idade\":idade}\n",
        "\n",
        "   lista_de_cadastro.append(usuario)\n",
        "\n",
        "for usuario in lista_de_cadastro:\n",
        "  print(usuario)"
      ],
      "metadata": {
        "colab": {
          "base_uri": "https://localhost:8080/"
        },
        "id": "J9QiDDB0DrIq",
        "outputId": "e64a9400-4fe6-4e84-ac23-d86a443540c3"
      },
      "execution_count": null,
      "outputs": [
        {
          "output_type": "stream",
          "name": "stdout",
          "text": [
            "{'primeiro_nome': 'Paola', 'segundo_nome': 'Pérez Ochoa', 'idade': 71}\n",
            "{'primeiro_nome': 'Rubi', 'segundo_nome': 'Bracho', 'idade': 32}\n",
            "{'primeiro_nome': 'Paola', 'segundo_nome': 'Pérez Ochoa', 'idade': 15}\n",
            "{'primeiro_nome': 'Paola', 'segundo_nome': 'Pérez Ochoa', 'idade': 66}\n",
            "{'primeiro_nome': 'Maria', 'segundo_nome': 'Mercedes', 'idade': 59}\n",
            "{'primeiro_nome': 'Paola', 'segundo_nome': 'Bracho', 'idade': 95}\n",
            "{'primeiro_nome': 'Maria', 'segundo_nome': 'Bracho', 'idade': 14}\n",
            "{'primeiro_nome': 'Paola', 'segundo_nome': 'Mercedes', 'idade': 65}\n",
            "{'primeiro_nome': 'Rubi', 'segundo_nome': 'Mercedes', 'idade': 85}\n",
            "{'primeiro_nome': 'Maria', 'segundo_nome': 'Bracho', 'idade': 48}\n"
          ]
        }
      ]
    },
    {
      "cell_type": "markdown",
      "source": [
        "Utilizando um dos métodos abordados em aula e programados por você em um dos exercícios anteriores:\n",
        "\n",
        "(a) ordene de forma **crescente** a lista ```lista_de_cadastro``` de acordo com o item \"idade\" em cada dicionário.\n",
        "\n",
        "(b) ordene de forma **decrescente** a lista ```lista_de_cadastro``` de acordo com o número de letras no sobrenome do usuário."
      ],
      "metadata": {
        "id": "NlkfOcE-GaFR"
      }
    },
    {
      "cell_type": "code",
      "source": [
        "# Solução\n",
        "#Letra a)\n",
        "def bubble_sort(L,X):\n",
        "  n = len(L)\n",
        "  for i in range(n-1):\n",
        "    for j in range(n - i - 1):\n",
        "      if L[j] > L[j+1]:\n",
        "        aux = L[j]\n",
        "        L[j] = L[j+1]\n",
        "        L[j+1] = aux\n",
        "\n",
        "        aux = X[j]\n",
        "        X[j] = X[j+1]\n",
        "        X[j+1] = aux\n",
        "\n",
        "  return X\n",
        "\n",
        "from numpy import random as rd\n",
        "\n",
        "lista_de_cadastro  = []\n",
        "idades=[]\n",
        "numero_usuarios = 10\n",
        "\n",
        "primeiro_nome   = [\"Paola\", \"Rubí\", \"Maria\"]\n",
        "a_primeiro_nome = len(primeiro_nome)\n",
        "\n",
        "segundo_nome   = [\"Bracho\", \"Pérez Ochoa\", \"Mercedes\"]\n",
        "a_segundo_nome = len(segundo_nome)\n",
        "\n",
        "for i in range(numero_usuarios):\n",
        "\n",
        "   n1 = primeiro_nome[rd.randint(0,a_primeiro_nome)]\n",
        "   n2 = segundo_nome[rd.randint(0,a_segundo_nome)]\n",
        "\n",
        "   idade  = rd.randint(10,100)\n",
        "\n",
        "   usuario = {\"primeiro_nome\":n1, \"segundo_nome\":n2, \"idade\":idade}\n",
        "   idades.append(idade)\n",
        "\n",
        "   lista_de_cadastro.append(usuario)\n",
        "\n",
        "lista_de_cadastro = bubble_sort(idades,lista_de_cadastro)\n",
        "for usuario in lista_de_cadastro:\n",
        "  print(usuario)\n",
        "\n"
      ],
      "metadata": {
        "id": "0zehK0eoG12q",
        "colab": {
          "base_uri": "https://localhost:8080/"
        },
        "outputId": "c9b87bef-ad7c-4cfd-ab42-9d869b8af67f"
      },
      "execution_count": null,
      "outputs": [
        {
          "output_type": "stream",
          "name": "stdout",
          "text": [
            "{'primeiro_nome': 'Rubí', 'segundo_nome': 'Mercedes', 'idade': 22}\n",
            "{'primeiro_nome': 'Maria', 'segundo_nome': 'Bracho', 'idade': 25}\n",
            "{'primeiro_nome': 'Rubí', 'segundo_nome': 'Pérez Ochoa', 'idade': 31}\n",
            "{'primeiro_nome': 'Maria', 'segundo_nome': 'Pérez Ochoa', 'idade': 33}\n",
            "{'primeiro_nome': 'Maria', 'segundo_nome': 'Pérez Ochoa', 'idade': 34}\n",
            "{'primeiro_nome': 'Paola', 'segundo_nome': 'Bracho', 'idade': 41}\n",
            "{'primeiro_nome': 'Rubí', 'segundo_nome': 'Mercedes', 'idade': 58}\n",
            "{'primeiro_nome': 'Rubí', 'segundo_nome': 'Mercedes', 'idade': 73}\n",
            "{'primeiro_nome': 'Paola', 'segundo_nome': 'Bracho', 'idade': 81}\n",
            "{'primeiro_nome': 'Rubí', 'segundo_nome': 'Bracho', 'idade': 85}\n"
          ]
        }
      ]
    },
    {
      "cell_type": "code",
      "source": [
        "#Solução\n",
        "#Letra b)\n",
        "def bubble_sort(L,X):\n",
        "\n",
        "    n = len(L)\n",
        "\n",
        "    for i in range(n-1):\n",
        "      for j in range(n - i - 1):\n",
        "        if L[j] < L[j+1]:\n",
        "            aux = L[j]\n",
        "            L[j] = L[j+1]\n",
        "            L[j+1] = aux\n",
        "\n",
        "            aux = X[j]\n",
        "            X[j] = X[j+1]\n",
        "            X[j+1] = aux\n",
        "\n",
        "    return X\n",
        "\n",
        "from numpy import random as rd\n",
        "\n",
        "lista_de_cadastro  = []\n",
        "idades=[]\n",
        "numero_usuarios = 10\n",
        "\n",
        "primeiro_nome   = [\"Paola\", \"Rubí\", \"Maria\"]\n",
        "a_primeiro_nome = len(primeiro_nome)\n",
        "\n",
        "segundo_nome   = [\"Bracho\", \"Pérez Ochoa\", \"Mercedes\"]\n",
        "a_segundo_nome = len(segundo_nome)\n",
        "\n",
        "for i in range(numero_usuarios):\n",
        "\n",
        "   n1 = primeiro_nome[rd.randint(0,a_primeiro_nome)]\n",
        "   n2 = segundo_nome[rd.randint(0,a_segundo_nome)]\n",
        "\n",
        "   idade  = rd.randint(10,100)\n",
        "\n",
        "   usuario = {\"primeiro_nome\":n1, \"segundo_nome\":n2, \"idade\":idade}\n",
        "   idades.append(idade)\n",
        "\n",
        "   lista_de_cadastro.append(usuario)\n",
        "\n",
        "lista_de_cadastro = bubble_sort(idades,lista_de_cadastro)\n",
        "for usuario in lista_de_cadastro:\n",
        "  print(usuario)"
      ],
      "metadata": {
        "colab": {
          "base_uri": "https://localhost:8080/"
        },
        "id": "x0PKraCBeSLx",
        "outputId": "efee00f9-3d32-4ff3-f588-e902c559d34b"
      },
      "execution_count": null,
      "outputs": [
        {
          "output_type": "stream",
          "name": "stdout",
          "text": [
            "{'primeiro_nome': 'Paola', 'segundo_nome': 'Pérez Ochoa', 'idade': 92}\n",
            "{'primeiro_nome': 'Paola', 'segundo_nome': 'Mercedes', 'idade': 89}\n",
            "{'primeiro_nome': 'Paola', 'segundo_nome': 'Mercedes', 'idade': 83}\n",
            "{'primeiro_nome': 'Maria', 'segundo_nome': 'Mercedes', 'idade': 69}\n",
            "{'primeiro_nome': 'Rubí', 'segundo_nome': 'Mercedes', 'idade': 68}\n",
            "{'primeiro_nome': 'Rubí', 'segundo_nome': 'Pérez Ochoa', 'idade': 48}\n",
            "{'primeiro_nome': 'Paola', 'segundo_nome': 'Pérez Ochoa', 'idade': 30}\n",
            "{'primeiro_nome': 'Paola', 'segundo_nome': 'Mercedes', 'idade': 28}\n",
            "{'primeiro_nome': 'Rubí', 'segundo_nome': 'Mercedes', 'idade': 22}\n",
            "{'primeiro_nome': 'Rubí', 'segundo_nome': 'Mercedes', 'idade': 19}\n"
          ]
        }
      ]
    },
    {
      "cell_type": "code",
      "source": [
        "!wget -nc https://raw.githubusercontent.com/brpy/colab-pdf/master/colab_pdf.py\n",
        "from colab_pdf import colab_pdf\n",
        "colab_pdf('PA2_Lista_de_exercicios_4.ipynb')"
      ],
      "metadata": {
        "colab": {
          "base_uri": "https://localhost:8080/",
          "height": 326
        },
        "id": "2-F7bGJdP3Fe",
        "outputId": "d1b43b7f-4708-4879-ae2d-21edd2664d07"
      },
      "execution_count": null,
      "outputs": [
        {
          "output_type": "stream",
          "name": "stdout",
          "text": [
            "File ‘colab_pdf.py’ already there; not retrieving.\n",
            "\n",
            "\n",
            "WARNING: apt does not have a stable CLI interface. Use with caution in scripts.\n",
            "\n",
            "\n",
            "WARNING: apt does not have a stable CLI interface. Use with caution in scripts.\n",
            "\n",
            "[NbConvertApp] Converting notebook /content/drive/MyDrive/Colab Notebooks/PA2_Lista_de_exercicios_4.ipynb to pdf\n",
            "[NbConvertApp] Writing 59178 bytes to ./notebook.tex\n",
            "[NbConvertApp] Building PDF\n",
            "[NbConvertApp] Running xelatex 3 times: [u'xelatex', u'./notebook.tex', '-quiet']\n",
            "[NbConvertApp] Running bibtex 1 time: [u'bibtex', u'./notebook']\n",
            "[NbConvertApp] WARNING | bibtex had problems, most likely because there were no citations\n",
            "[NbConvertApp] PDF successfully created\n",
            "[NbConvertApp] Writing 56269 bytes to /content/drive/My Drive/PA2_Lista_de_exercicios_4.pdf\n"
          ]
        },
        {
          "output_type": "display_data",
          "data": {
            "application/javascript": [
              "\n",
              "    async function download(id, filename, size) {\n",
              "      if (!google.colab.kernel.accessAllowed) {\n",
              "        return;\n",
              "      }\n",
              "      const div = document.createElement('div');\n",
              "      const label = document.createElement('label');\n",
              "      label.textContent = `Downloading \"${filename}\": `;\n",
              "      div.appendChild(label);\n",
              "      const progress = document.createElement('progress');\n",
              "      progress.max = size;\n",
              "      div.appendChild(progress);\n",
              "      document.body.appendChild(div);\n",
              "\n",
              "      const buffers = [];\n",
              "      let downloaded = 0;\n",
              "\n",
              "      const channel = await google.colab.kernel.comms.open(id);\n",
              "      // Send a message to notify the kernel that we're ready.\n",
              "      channel.send({})\n",
              "\n",
              "      for await (const message of channel.messages) {\n",
              "        // Send a message to notify the kernel that we're ready.\n",
              "        channel.send({})\n",
              "        if (message.buffers) {\n",
              "          for (const buffer of message.buffers) {\n",
              "            buffers.push(buffer);\n",
              "            downloaded += buffer.byteLength;\n",
              "            progress.value = downloaded;\n",
              "          }\n",
              "        }\n",
              "      }\n",
              "      const blob = new Blob(buffers, {type: 'application/binary'});\n",
              "      const a = document.createElement('a');\n",
              "      a.href = window.URL.createObjectURL(blob);\n",
              "      a.download = filename;\n",
              "      div.appendChild(a);\n",
              "      a.click();\n",
              "      div.remove();\n",
              "    }\n",
              "  "
            ],
            "text/plain": [
              "<IPython.core.display.Javascript object>"
            ]
          },
          "metadata": {}
        },
        {
          "output_type": "display_data",
          "data": {
            "application/javascript": [
              "download(\"download_13248892-6f84-4dc8-b4f0-a8e537a56cd8\", \"PA2_Lista_de_exercicios_4.pdf\", 56269)"
            ],
            "text/plain": [
              "<IPython.core.display.Javascript object>"
            ]
          },
          "metadata": {}
        },
        {
          "output_type": "execute_result",
          "data": {
            "application/vnd.google.colaboratory.intrinsic+json": {
              "type": "string"
            },
            "text/plain": [
              "'File ready to be Downloaded and Saved to Drive'"
            ]
          },
          "metadata": {},
          "execution_count": 24
        }
      ]
    }
  ]
}